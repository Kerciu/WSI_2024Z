{
  "cells": [
    {
      "cell_type": "markdown",
      "metadata": {
        "id": "88lxDms-saqt"
      },
      "source": [
        "#Zadanie 1a (3 pkt)\n",
        "Celem zadania jest rozwiązanie problemu plecakowego dwoma metodami - brute force oraz według zadanej heurystyki. Należy zaimplementować metody klasy *KnapSack* - *solve_knapsack_brute_force* oraz *solve_knapsack_pw_ratio*. Poprzez rozwiązanie problemu rozumiemy podanie które przedmioty (indeksy w tablicy) należy spakować do plecaka oraz jaka jest sumaryczna wartość i masa plecaka. Punktacja wygląda następująco:\n",
        "\n",
        "\n",
        "*   Rozwiązanie problemu metodą brute force. *Podpowiedź: do wygenerowania wszystkich permutacji można użyć funkcji product z biblioteki itertools* - **1.5 pkt**\n",
        "*   Rozwiązanie problemu według heurystyki - do plecaka pakujemy przedmioty według stosunku wartości do wagi - **1 pkt**\n",
        "*   Dla metody brute force proszę wygenerować wykres zależności czasu wykonywania metody od liczby elementów w tablicach *weights* i *profits* (do obu tablic należy stopniowo dopisywać po jednym elemencie, np. 10-krotnie, wartości elementów nie mają znaczenia). Proszę również odpowiedzieć na pytania (w osobnej komórce tekstowej) - czy obie metody mają takie same rozwiązania? Jakie są Pani / Pana wnioski? - **0.5 pkt**\n",
        "\n",
        "\n"
      ]
    },
    {
      "cell_type": "code",
      "execution_count": 1,
      "metadata": {
        "id": "1X0PiYKZ2w63"
      },
      "outputs": [],
      "source": [
        "%matplotlib inline\n",
        "from matplotlib import pyplot as plt\n",
        "import numpy as np\n",
        "import itertools\n",
        "import gc\n",
        "import time\n",
        "import copy\n",
        "import random"
      ]
    },
    {
      "cell_type": "code",
      "execution_count": 2,
      "metadata": {
        "id": "_IOCNGpCuy8s"
      },
      "outputs": [],
      "source": [
        "weights = np.array([8, 3, 5, 2])\n",
        "capacity = 9\n",
        "profits = np.array([16, 8, 9, 6])"
      ]
    },
    {
      "cell_type": "code",
      "execution_count": 3,
      "metadata": {
        "id": "s5J82x9WuSOh"
      },
      "outputs": [],
      "source": [
        "class KnapSack:\n",
        "  def __init__(self, profits, weights, capacity):\n",
        "    self.profits = profits\n",
        "    self.weights = weights\n",
        "    self.capacity = capacity\n",
        "\n",
        "  @property\n",
        "  def item_count(self):\n",
        "    return len(self.weights)\n",
        "\n",
        "  def _calc_knapsack_weight(self, item_count, best_combination):\n",
        "    return sum(self.weights[i] for i in range(item_count) if best_combination[i] == 1)\n",
        "\n",
        "  def solve_knapsack_brute_force(self):\n",
        "    if self.item_count == 0 or self.capacity == 0:\n",
        "      return [], 0, 0\n",
        "\n",
        "    max_profit = 0\n",
        "    best_combination = []\n",
        "\n",
        "    all_combinations = [list(comb) for comb in itertools.product([0, 1], repeat=self.item_count)]\n",
        "\n",
        "    for combination in all_combinations:\n",
        "      comb_weight_sum = 0\n",
        "      comb_profit_sum = 0\n",
        "\n",
        "      for i in range(self.item_count):\n",
        "        if combination[i] == 1:\n",
        "          comb_weight_sum += self.weights[i]\n",
        "          comb_profit_sum += self.profits[i]\n",
        "\n",
        "      if comb_weight_sum <= self.capacity and comb_profit_sum > max_profit:\n",
        "        max_profit = comb_profit_sum\n",
        "        best_combination = combination\n",
        "\n",
        "    knapsack_weight = self._calc_knapsack_weight(self.item_count, best_combination)\n",
        "\n",
        "    return best_combination, max_profit, knapsack_weight\n",
        "\n",
        "  def _calc_pw_ratio(self):\n",
        "    return [p / w for p, w in zip(self.profits, self.weights)]\n",
        "\n",
        "  def solve_knapsack_pw_ratio(self):\n",
        "    if self.item_count == 0 or self.capacity == 0:\n",
        "      return [], 0, 0\n",
        "\n",
        "    ratios = self._calc_pw_ratio()\n",
        "    items = [(i, self.profits[i], self.weights[i], ratios[i]) for i in range(self.item_count)]\n",
        "    items.sort(key=lambda x: x[3], reverse=True)\n",
        "\n",
        "    comb_weight_sum = 0\n",
        "    comb_profit_sum = 0\n",
        "    best_combination = [0] * self.item_count\n",
        "\n",
        "    for item in items:\n",
        "      idx = item[0]\n",
        "      profit = item[1]\n",
        "      weight = item[2]\n",
        "\n",
        "      if comb_weight_sum + weight <= self.capacity:\n",
        "        comb_weight_sum += weight\n",
        "        comb_profit_sum += profit\n",
        "        best_combination[idx] = 1\n",
        "\n",
        "      else: break\n",
        "\n",
        "    return best_combination, comb_profit_sum, comb_weight_sum\n",
        "\n",
        "\n"
      ]
    },
    {
      "cell_type": "code",
      "execution_count": 4,
      "metadata": {},
      "outputs": [],
      "source": [
        "class TimeMeasurer:\n",
        "\n",
        "    @staticmethod\n",
        "    def manage_gc(disable):\n",
        "        if disable:\n",
        "            gc.disable()\n",
        "\n",
        "    @staticmethod\n",
        "    def measure(func, disable_gc=False):\n",
        "        TimeMeasurer.manage_gc(disable_gc)\n",
        "\n",
        "        start_time = time.time()\n",
        "        result = func()\n",
        "        end_time = time.time()\n",
        "\n",
        "        TimeMeasurer.manage_gc(disable_gc)\n",
        "\n",
        "        return end_time - start_time"
      ]
    },
    {
      "cell_type": "code",
      "execution_count": 5,
      "metadata": {},
      "outputs": [],
      "source": [
        "class Plotter:\n",
        "    def __init__(self):\n",
        "        self.ITERS = 20\n",
        "        self.ITEM_WEIGHT_THRESHOLD = 15\n",
        "        self.ITEM_PROFIT_THRESHOLD = 20\n",
        "        self.brute_force_data = self.generate_brute_force_data()\n",
        "\n",
        "    def generate_brute_force_data(self):\n",
        "\n",
        "        execution_times = []\n",
        "        item_counts = []\n",
        "\n",
        "        weights_cpy = copy.deepcopy(weights)\n",
        "        profits_cpy = copy.deepcopy(profits)\n",
        "\n",
        "        knapsack = KnapSack(copy.deepcopy(profits_cpy), copy.deepcopy(weights_cpy), capacity)\n",
        "\n",
        "        for _ in range(self.ITERS):\n",
        "\n",
        "            knapsack = KnapSack(profits_cpy, weights_cpy, capacity)\n",
        "\n",
        "            exec_time = TimeMeasurer.measure(knapsack.solve_knapsack_brute_force)\n",
        "            execution_times.append(exec_time)\n",
        "\n",
        "            item_counts.append(knapsack.item_count)\n",
        "\n",
        "            weights_cpy = np.append(weights_cpy, random.randint(1, self.ITEM_WEIGHT_THRESHOLD))\n",
        "            profits_cpy = np.append(profits_cpy, random.randint(1, self.ITEM_PROFIT_THRESHOLD))\n",
        "\n",
        "        return execution_times, item_counts\n",
        "\n",
        "    def generate_brute_force_plot(self):\n",
        "\n",
        "        exec_times = self.brute_force_data[0]\n",
        "        item_counts = self.brute_force_data[1]\n",
        "\n",
        "        TITLE = \"Knapsack Problem | Brute Force\"\n",
        "        X_LABEL = \"Number of elements\"\n",
        "        Y_LABEL = \"Execute time (s)\"\n",
        "\n",
        "        plt.plot(item_counts, exec_times, marker='o', linestyle='-', color='b')\n",
        "\n",
        "        plt.title(TITLE)\n",
        "        plt.xlabel(X_LABEL)\n",
        "        plt.ylabel(Y_LABEL)\n",
        "\n",
        "        plt.grid(True)\n",
        "\n",
        "        plt.show()\n",
        "\n",
        "\n"
      ]
    },
    {
      "cell_type": "code",
      "execution_count": 6,
      "metadata": {},
      "outputs": [],
      "source": [
        "class ResultPrinter:\n",
        "\n",
        "  @staticmethod\n",
        "  def print_results(func, title):\n",
        "    comb, profit, weight = func()\n",
        "    print(f'{title.capitalize()}\\nCombination: {comb}, Profit: {profit}, Weight: {weight}')\n",
        "\n",
        "  def print_exec_results():\n",
        "    weights_cpy = copy.deepcopy(weights)\n",
        "    profits_cpy = copy.deepcopy(profits)\n",
        "\n",
        "    knapsack = KnapSack(copy.deepcopy(profits_cpy), copy.deepcopy(weights_cpy), capacity)\n",
        "    ResultPrinter.print_results(knapsack.solve_knapsack_brute_force, \"Brute Force\")\n",
        "    print()\n",
        "    ResultPrinter.print_results(knapsack.solve_knapsack_pw_ratio, \"P/W Ratio\")"
      ]
    },
    {
      "cell_type": "code",
      "execution_count": 7,
      "metadata": {},
      "outputs": [
        {
          "name": "stdout",
          "output_type": "stream",
          "text": [
            "Brute force\n",
            "Combination: [0, 1, 1, 0], Profit: 17, Weight: 8\n",
            "\n",
            "P/w ratio\n",
            "Combination: [0, 1, 0, 1], Profit: 14, Weight: 5\n"
          ]
        },
        {
          "data": {
            "image/png": "[encoded data removed]",
            "text/plain": [
              "<Figure size 640x480 with 1 Axes>"
            ]
          },
          "metadata": {},
          "output_type": "display_data"
        }
      ],
      "source": [
        "ResultPrinter.print_exec_results()\n",
        "plotter = Plotter().generate_brute_force_plot()"
      ]
    },
    {
      "cell_type": "markdown",
      "metadata": {},
      "source": [
        "# **Wnioski**\n",
        "\n",
        "## Implementacja Brute Force\n",
        "Problem plecakowy jest problemem NP-trudnym, co oznacza, że można go sprowadzić do problemu SAT. Przy implementacji **Brute Force**, algorytm generuje wszystkie możliwe kombinacje przedmiotów, co prowadzi do złożoności obliczeniowej ***O(2^n)***. Choć metoda ta zawsze znajduje optymalne rozwiązanie, dla dużych danych wejściowych jej czas przetwarzania staje się bardzo długi, co znacząco ogranicza praktyczną użyteczność tego podejścia w rzeczywistych zastosowaniach.\n",
        "\n",
        "## Implementacja przy użyciu heurystyki P/W ratio\n",
        "**Heurystyka P/W ratio** (stosunek wartości do wagi) działa znacznie szybciej, z złożonością obliczeniową ***O(n log n)***, co umożliwia jej zastosowanie na dużych zbiorach danych. Algorytm ten, choć szybki, nie gwarantuje zawsze najbardziej optymalnego rozwiązania, ponieważ opiera się na przybliżeniu. Niemniej jednak, w praktyce, dla dużych danych wejściowych dostarcza akceptowalnie dobrych wyników, umożliwiając przetwarzanie danych tam, gdzie metoda Brute Force byłaby zbyt czasochłonna."
      ]
    }
  ],
  "metadata": {
    "accelerator": "GPU",
    "colab": {
      "provenance": []
    },
    "kernelspec": {
      "display_name": "Python 3",
      "name": "python3"
    },
    "language_info": {
      "codemirror_mode": {
        "name": "ipython",
        "version": 3
      },
      "file_extension": ".py",
      "mimetype": "text/x-python",
      "name": "python",
      "nbconvert_exporter": "python",
      "pygments_lexer": "ipython3",
      "version": "3.12.4"
    },
    "nteract": {
      "version": "nteract-front-end@1.0.0"
    }
  },
  "nbformat": 4,
  "nbformat_minor": 0
}
