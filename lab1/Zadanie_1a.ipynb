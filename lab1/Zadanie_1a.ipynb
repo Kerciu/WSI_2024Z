{
  "cells": [
    {
      "cell_type": "markdown",
      "metadata": {
        "id": "88lxDms-saqt"
      },
      "source": [
        "#Zadanie 1a (3 pkt)\n",
        "Celem zadania jest rozwiązanie problemu plecakowego dwoma metodami - brute force oraz według zadanej heurystyki. Należy zaimplementować metody klasy *KnapSack* - *solve_knapsack_brute_force* oraz *solve_knapsack_pw_ratio*. Poprzez rozwiązanie problemu rozumiemy podanie które przedmioty (indeksy w tablicy) należy spakować do plecaka oraz jaka jest sumaryczna wartość i masa plecaka. Punktacja wygląda następująco:\n",
        "\n",
        "\n",
        "*   Rozwiązanie problemu metodą brute force. *Podpowiedź: do wygenerowania wszystkich permutacji można użyć funkcji product z biblioteki itertools* - **1.5 pkt**\n",
        "*   Rozwiązanie problemu według heurystyki - do plecaka pakujemy przedmioty według stosunku wartości do wagi - **1 pkt**\n",
        "*   Dla metody brute force proszę wygenerować wykres zależności czasu wykonywania metody od liczby elementów w tablicach *weights* i *profits* (do obu tablic należy stopniowo dopisywać po jednym elemencie, np. 10-krotnie, wartości elementów nie mają znaczenia). Proszę również odpowiedzieć na pytania (w osobnej komórce tekstowej) - czy obie metody mają takie same rozwiązania? Jakie są Pani / Pana wnioski? - **0.5 pkt**\n",
        "\n",
        "\n"
      ]
    },
    {
      "cell_type": "code",
      "execution_count": 2,
      "metadata": {
        "id": "1X0PiYKZ2w63"
      },
      "outputs": [],
      "source": [
        "import numpy as np\n",
        "import itertools\n",
        "\n",
        "%matplotlib inline\n",
        "from matplotlib import pyplot as plt\n",
        "import gc\n",
        "import time\n",
        "import copy\n",
        "import random"
      ]
    },
    {
      "cell_type": "code",
      "execution_count": null,
      "metadata": {},
      "outputs": [],
      "source": [
        "ITEM_WEIGHT_THRESHOLD = 15\n",
        "ITEM_PROFIT_THRESHOLD = 20\n",
        "ITERS = 10"
      ]
    },
    {
      "cell_type": "code",
      "execution_count": 3,
      "metadata": {
        "id": "_IOCNGpCuy8s"
      },
      "outputs": [],
      "source": [
        "weights = np.array([8, 3, 5, 2])\n",
        "capacity = 9\n",
        "profits = np.array([16, 8, 9, 6])"
      ]
    },
    {
      "cell_type": "code",
      "execution_count": 4,
      "metadata": {
        "id": "s5J82x9WuSOh"
      },
      "outputs": [],
      "source": [
        "class KnapSack:\n",
        "  def __init__(self, profits, weights, capacity):\n",
        "    self.profits = profits\n",
        "    self.weights = weights\n",
        "    self.capacity = capacity\n",
        "\n",
        "  def get_item_count(self):\n",
        "    return len(self.weights)\n",
        "\n",
        "  def calc_knapsack_weight(self, item_count, best_combination):\n",
        "    return sum(self.weights[i] for i in range(item_count) if best_combination[i] == 1)\n",
        "\n",
        "  def solve_knapsack_brute_force(self):   # -> best_combination, max_profit, summed_weights\n",
        "    item_count = self.get_item_count()\n",
        "\n",
        "    if item_count == 0 or capacity == 0:\n",
        "      return [], 0, 0\n",
        "\n",
        "    max_profit = 0;\n",
        "    best_combination = [];\n",
        "  \n",
        "    all_combinations = itertools.product([0, 1], repeat=item_count)\n",
        "    #  all combinations of binary numbers of len=item_count\n",
        "    #  ==> [[0, 0, 0, .., 0], [1, 0, 0, .., 0], ..]\n",
        "\n",
        "    for combination in all_combinations:\n",
        "      comb_weight_sum = 0\n",
        "      comb_profit_sum = 0\n",
        "\n",
        "      for i in range(item_count):\n",
        "        if combination[i] == 1:       # if item is being taken\n",
        "          comb_weight_sum += self.weights[i]\n",
        "          comb_profit_sum += self.profits[i]  # we add their weight and profits to the sum\n",
        "      \n",
        "      if comb_weight_sum <= capacity and comb_profit_sum > max_profit:\n",
        "        # if weight of combination items does not exceed capacity and profit is better than earlier one\n",
        "        max_profit = comb_profit_sum\n",
        "        best_combination = combination\n",
        "    \n",
        "    knapsack_weight = self.calc_knapsack_weight(item_count, best_combination);\n",
        "\n",
        "    return best_combination, max_profit, knapsack_weight\n",
        "\n",
        "\n",
        "  def solve_knapsack_pw_ratio(self):\n",
        "    pass"
      ]
    },
    {
      "cell_type": "code",
      "execution_count": 5,
      "metadata": {},
      "outputs": [],
      "source": [
        "class TimeMeasurer:\n",
        "\n",
        "    @staticmethod\n",
        "    def manage_gc(disable):\n",
        "        if disable:\n",
        "            gc.disable();\n",
        "\n",
        "    @staticmethod\n",
        "    def measure(func, *args, disable_gc=False, **kwargs):\n",
        "        TimeMeasurer.manage_gc(disable_gc)\n",
        "\n",
        "        start_time = time.time()\n",
        "        result = func(args, kwargs)\n",
        "        end_time = time.time()\n",
        "\n",
        "        TimeMeasurer.manage_gc(disable_gc)\n",
        "\n",
        "        return end_time - start_time"
      ]
    },
    {
      "cell_type": "code",
      "execution_count": 9,
      "metadata": {},
      "outputs": [],
      "source": [
        "class Plotter:\n",
        "    def __init__(self):\n",
        "        self.brute_force_data = self.generate_brute_force_data()\n",
        "\n",
        "    @staticmethod\n",
        "    def generate_brute_force_data():\n",
        "\n",
        "        execution_times = []\n",
        "        item_counts = []\n",
        "\n",
        "        weights_cpy = copy.deepcopy(weights)\n",
        "        profits_cpy = copy.deepcopy(profits)\n",
        "\n",
        "        knapsack = KnapSack(copy.deepcopy(profits_cpy), copy.deepcopy(weights_cpy), capacity)\n",
        "        \n",
        "        for _ in range(ITERS):\n",
        "\n",
        "            knapsack = KnapSack(profits_cpy, weights_cpy, capacity)\n",
        "            \n",
        "            exec_time = TimeMeasurer.measure(knapsack.solve_knapsack_brute_force)\n",
        "            execution_times.append(exec_time)\n",
        "\n",
        "            item_counts.append(knapsack.get_item_count())\n",
        "\n",
        "            weights_cpy.append(random.randint(1, ITEM_WEIGHT_THRESHOLD))\n",
        "            profits_cpy.append(random.randint(1, ITEM_PROFIT_THRESHOLD))\n",
        "\n",
        "        return execution_times, item_counts\n",
        "\n",
        "    def generate_brute_force_plot(self):\n",
        "        \n",
        "        exec_times = self.brute_force_data[0]\n",
        "        item_counts = self.brute_force_data[1]\n",
        "\n",
        "        TITLE = \"Problem Plecakowy | Brute Force | Wykres czasu wykonywania od liczby elementów w tablicach\"\n",
        "        X_LABEL = \"Liczba elementów\"\n",
        "        Y_LABEL = \"Czas wykonywania (s)\"\n",
        "\n",
        "        plt.plot(item_counts, exec_times, marker='o', linestyle='-', color='b')\n",
        "        \n",
        "        plt.title(TITLE)\n",
        "        plt.xlabel(X_LABEL)\n",
        "        plt.ylabel(Y_LABEL)\n",
        "\n",
        "        plt.grid(True)\n",
        "\n",
        "        plt.show()\n",
        "        \n",
        "\n"
      ]
    }
  ],
  "metadata": {
    "accelerator": "GPU",
    "colab": {
      "provenance": []
    },
    "kernelspec": {
      "display_name": "Python 3",
      "name": "python3"
    },
    "language_info": {
      "codemirror_mode": {
        "name": "ipython",
        "version": 3
      },
      "file_extension": ".py",
      "mimetype": "text/x-python",
      "name": "python",
      "nbconvert_exporter": "python",
      "pygments_lexer": "ipython3",
      "version": "3.12.4"
    },
    "nteract": {
      "version": "nteract-front-end@1.0.0"
    }
  },
  "nbformat": 4,
  "nbformat_minor": 0
}
