{
  "cells": [
    {
      "cell_type": "markdown",
      "metadata": {
        "id": "88lxDms-saqt"
      },
      "source": [
        "#Zadanie 1a (3 pkt)\n",
        "Celem zadania jest rozwiązanie problemu plecakowego dwoma metodami - brute force oraz według zadanej heurystyki. Należy zaimplementować metody klasy *KnapSack* - *solve_knapsack_brute_force* oraz *solve_knapsack_pw_ratio*. Poprzez rozwiązanie problemu rozumiemy podanie które przedmioty (indeksy w tablicy) należy spakować do plecaka oraz jaka jest sumaryczna wartość i masa plecaka. Punktacja wygląda następująco:\n",
        "\n",
        "\n",
        "*   Rozwiązanie problemu metodą brute force. *Podpowiedź: do wygenerowania wszystkich permutacji można użyć funkcji product z biblioteki itertools* - **1.5 pkt**\n",
        "*   Rozwiązanie problemu według heurystyki - do plecaka pakujemy przedmioty według stosunku wartości do wagi - **1 pkt**\n",
        "*   Dla metody brute force proszę wygenerować wykres zależności czasu wykonywania metody od liczby elementów w tablicach *weights* i *profits* (do obu tablic należy stopniowo dopisywać po jednym elemencie, np. 10-krotnie, wartości elementów nie mają znaczenia). Proszę również odpowiedzieć na pytania (w osobnej komórce tekstowej) - czy obie metody mają takie same rozwiązania? Jakie są Pani / Pana wnioski? - **0.5 pkt**\n",
        "\n",
        "\n"
      ]
    },
    {
      "cell_type": "code",
      "execution_count": 1,
      "metadata": {
        "id": "1X0PiYKZ2w63"
      },
      "outputs": [],
      "source": [
        "import numpy as np\n",
        "import itertools\n",
        "from matplotlib import pyplot as plt\n",
        "import gc\n",
        "import time"
      ]
    },
    {
      "cell_type": "code",
      "execution_count": 2,
      "metadata": {
        "id": "_IOCNGpCuy8s"
      },
      "outputs": [],
      "source": [
        "weights = np.array([8, 3, 5, 2])\n",
        "capacity = 9\n",
        "profits = np.array([16, 8, 9, 6])"
      ]
    },
    {
      "cell_type": "code",
      "execution_count": 4,
      "metadata": {
        "id": "s5J82x9WuSOh"
      },
      "outputs": [],
      "source": [
        "class KnapSack:\n",
        "  def __init__(self, profits, weights, capacity):\n",
        "    self.profits = profits\n",
        "    self.weights = weights\n",
        "    self.capacity = capacity\n",
        "\n",
        "  def solve_knapsack_brute_force(self):\n",
        "    item_count = len(self.weights);\n",
        "\n",
        "    if self.capacity == 0 or item_count == 0:\n",
        "      return 0;\n",
        "  \n",
        "    permutations = itertools.product(self.weights, self.profits);\n",
        "\n",
        "    for combination in permutations:\n",
        "      comb_weight_sum = 0\n",
        "      comb_profit_sum = 0\n",
        "\n",
        "      for i in range(item_count):\n",
        "        if combination[i] == 1:\n",
        "          comb_weight_sum += self.weights[i]\n",
        "          comb_profit_sum += self.profits[i]\n",
        "      \n",
        "      if comb_weight_sum > capacity:\n",
        "        max_profit = max(max_profit, comb_profit_sum)\n",
        "    \n",
        "    return max_profit;\n",
        "\n",
        "  def solve_knapsack_pw_ratio(self):\n",
        "    pass"
      ]
    },
    {
      "cell_type": "code",
      "execution_count": null,
      "metadata": {},
      "outputs": [],
      "source": [
        "class TimeMeasurer:\n",
        "\n",
        "    @staticmethod\n",
        "    def manage_gc(disable):\n",
        "        if disable:\n",
        "            gc.disable();\n",
        "\n",
        "    @staticmethod\n",
        "    def measure(func, *args, disable_gc=False, **kwargs):\n",
        "        TimeMeasurer.manage_gc(disable_gc)\n",
        "\n",
        "        start_time = time.time()\n",
        "        result = func(args, kwargs)\n",
        "        end_time = time.time()\n",
        "\n",
        "        TimeMeasurer.manage_gc(disable_gc)\n",
        "\n",
        "        return end_time - start_time"
      ]
    }
  ],
  "metadata": {
    "accelerator": "GPU",
    "colab": {
      "provenance": []
    },
    "kernelspec": {
      "display_name": "Python 3",
      "name": "python3"
    },
    "language_info": {
      "codemirror_mode": {
        "name": "ipython",
        "version": 3
      },
      "file_extension": ".py",
      "mimetype": "text/x-python",
      "name": "python",
      "nbconvert_exporter": "python",
      "pygments_lexer": "ipython3",
      "version": "3.12.4"
    },
    "nteract": {
      "version": "nteract-front-end@1.0.0"
    }
  },
  "nbformat": 4,
  "nbformat_minor": 0
}
