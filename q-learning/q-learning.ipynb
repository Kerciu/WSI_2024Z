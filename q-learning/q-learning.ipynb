{
 "cells": [
  {
   "cell_type": "markdown",
   "metadata": {
    "collapsed": false
   },
   "source": [
    "# Zadanie 6\n",
    "\n",
    "Celem ćwiczenia jest implementacja algorytmu Q-learning.\n",
    "\n",
    "Następnie należy stworzyć agenta rozwiązującego problem [Taxi](https://gymnasium.farama.org/environments/toy_text/taxi/). Problem dostępny jest w pakiecie **gym**.\n",
    "\n",
    "Punktacja (max 7 pkt):\n",
    "- Implementacja algorytmu Q-learning. [3 pkt]\n",
    "- Eksperymenty dla różnych wartości hiperparametrów [2 pkt]\n",
    "- Jakość kodu [1 pkt]\n",
    "- Wnioski [1 pkt]\n",
    "\n",
    "Polecane źródła - teoria + intuicja:\n",
    "- https://distill.pub/2019/paths-perspective-on-value-learning/\n",
    "- https://www.youtube.com/watch?v=0iqz4tcKN58&ab_channel=SteveBrunton"
   ]
  },
  {
   "cell_type": "code",
   "execution_count": 1,
   "metadata": {
    "collapsed": false
   },
   "outputs": [],
   "source": [
    "import numpy as np\n",
    "import gymnasium as gym"
   ]
  },
  {
   "cell_type": "code",
   "execution_count": null,
   "metadata": {},
   "outputs": [],
   "source": [
    "class Environtment:\n",
    "\n",
    "    def run(episodes: int, training: bool, render: bool) -> None:\n",
    "        env = gym.make('Taxi-v3', render_mode='human' if render else None)"
   ]
  },
  {
   "cell_type": "code",
   "execution_count": 4,
   "metadata": {
    "collapsed": false
   },
   "outputs": [],
   "source": [
    "class QLearningSolver:\n",
    "    \"\"\"Class containing the Q-learning algorithm that might be used for different discrete environments.\"\"\"\n",
    "\n",
    "    def __init__(\n",
    "        self,\n",
    "        observation_space: int,     # X\n",
    "        action_space: int,          # A\n",
    "        learning_rate: float = 0.1,\n",
    "        gamma: float = 0.9,\n",
    "        epsilon: float = 0.1,\n",
    "    ):\n",
    "        self.observation_space = observation_space\n",
    "        self.action_space = action_space\n",
    "        self.learning_rate = learning_rate\n",
    "        self.gamma = gamma\n",
    "        self.epsilon = epsilon\n",
    "\n",
    "        self.q_table = np.zeros((observation_space, action_space))\n",
    "\n",
    "    def __call__(self, state: np.ndarray, action: np.ndarray) -> np.ndarray:\n",
    "        \"\"\"Return Q-value of given state and action.\"\"\"\n",
    "        return self.q_table[state, action]\n",
    "    \n",
    "    def _best_next_action(self, next_state: np.ndarray) -> np.ndarray:\n",
    "        return np.argmax(self.q_table[next_state])\n",
    "    \n",
    "    def _calc_td_target(\n",
    "            self,\n",
    "            next_state: np.ndarray,\n",
    "            reward: float\n",
    "        ) -> None:\n",
    "        \n",
    "        best_action: int = self._best_next_action(next_state)\n",
    "\n",
    "        return reward + self.gamma * self.q_table[next_state, best_action]\n",
    "\n",
    "    def update(\n",
    "            self,\n",
    "            state: np.ndarray,\n",
    "            action: np.ndarray,\n",
    "            next_state: np.ndarray,\n",
    "            reward: float\n",
    "        ) -> None:\n",
    "        \"\"\"\n",
    "        Update Q-value of given state and action.\n",
    "\n",
    "        Q(s, a) ← Q(s, a) + learningrate * [r + y * max(Q(s', a')) - Q(s, a)]\n",
    "                                           {                     }\n",
    "                                          Temporal Difference Target\n",
    "\n",
    "        \"\"\"\n",
    "        Q = self.q_table[state, action]\n",
    "        TD_target: int = self._calc_td_target(next_state, reward)\n",
    "\n",
    "        self.q_table[state, action] = Q + self.learning_rate * (reward + self.gamma * TD_target - Q)\n",
    "\n",
    "    def get_best_action(self, state: np.ndarray) -> np.ndarray:\n",
    "        \"\"\"Return action that maximizes Q-value for a given state.\"\"\"\n",
    "        pass\n",
    "\n",
    "    def __repr__(self):\n",
    "        \"\"\"Elegant representation of Q-learning solver.\"\"\"\n",
    "        pass\n",
    "\n",
    "    def __str__(self):\n",
    "        return self.__repr__()"
   ]
  },
  {
   "cell_type": "markdown",
   "metadata": {
    "collapsed": false
   },
   "source": [
    "# Eksperymenty"
   ]
  },
  {
   "cell_type": "markdown",
   "metadata": {
    "collapsed": false
   },
   "source": [
    "# Wnioski"
   ]
  },
  {
   "cell_type": "code",
   "execution_count": null,
   "metadata": {
    "collapsed": false
   },
   "outputs": [],
   "source": []
  }
 ],
 "metadata": {
  "kernelspec": {
   "display_name": "Python 3",
   "language": "python",
   "name": "python3"
  },
  "language_info": {
   "codemirror_mode": {
    "name": "ipython",
    "version": 3
   },
   "file_extension": ".py",
   "mimetype": "text/x-python",
   "name": "python",
   "nbconvert_exporter": "python",
   "pygments_lexer": "ipython3",
   "version": "3.12.4"
  }
 },
 "nbformat": 4,
 "nbformat_minor": 0
}
