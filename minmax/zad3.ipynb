{
 "cells": [
  {
   "cell_type": "markdown",
   "metadata": {
    "collapsed": false
   },
   "source": [
    "# Zadanie 3 (7 punktów)\n",
    "\n",
    "Celem ćwiczenia jest imlementacja metody [Minimax z obcinaniem alpha-beta](https://en.wikipedia.org/wiki/Alpha%E2%80%93beta_pruning) do gry  Czwórki (ang. Connect Four).\n",
    "\n",
    "W trakcie ćwiczenia można skorzystać z reposytorium z implementacją gry [Connect Four udostępnionym przez Jakuba Łyskawę](https://github.com/lychanl/two-player-games). Ewentualnie, można zaimplementować samemu grę Connect Four.\n",
    "\n",
    "Należy zaimplementować co najmniej dwie heurystyki do ewaluacji planszy.  \n",
    "\n",
    "Implementację algorytmu Minimax (klasa `MiniMaxSolver`) należy przetestować używając różną głębokość przeszukiwania symulując grę \"komputer vs komputer\". W eksperymentach należy również zademonstrować różnice pomiędzy heurystykami.  \n",
    "\n",
    "W ramach zadania można zaimplementować dowolną liczbę dodatkowych metod w klasie `MiniMaxSolver`.\n",
    "\n",
    "Punktacja:\n",
    "\n",
    "- Działająca metoda Minimax oraz heurystyki do ewaluacji planszy. - **2 pkt**\n",
    "- Działająca metoda Minimax z obcinaniem alpha-beta. - **1.5 pkt**\n",
    "- Analiza jakości solvera w zależności od głębokości przeszukiwania - wykresy. - **2pkt**\n",
    "    - należy zaimplementować w tym celu prostą wizualizację rozgrywki dwóch agentów\n",
    "- Jakość kodu. - **1.5pkt**"
   ]
  },
  {
   "cell_type": "markdown",
   "metadata": {
    "collapsed": false
   },
   "source": [
    "Aby importowanie elementów z poniższej komórki działało należy umieścić tego notebooka w tym samym folderze co paczkę `two_player_games`:\n",
    "```\n",
    "├── LICENSE\n",
    "├── README.md\n",
    "├── minimax.ipynb # <<< HERE\n",
    "├── test\n",
    "│   ├── __init__.py\n",
    "│   ├── test_connect_four.py\n",
    "│   ├── test_dots_and_boxes.py\n",
    "│   └── test_pick.py\n",
    "└── two_player_games\n",
    "    ├── __init__.py\n",
    "    ├── games\n",
    "    │   ├── connect_four.py\n",
    "    │   └── dots_and_boxes.py\n",
    "    ├── move.py\n",
    "    ├── player.py\n",
    "    └── state.py\n",
    "```"
   ]
  },
  {
   "cell_type": "code",
   "execution_count": null,
   "metadata": {
    "collapsed": true
   },
   "outputs": [
    {
     "ename": "ModuleNotFoundError",
     "evalue": "No module named 'two_player_games'",
     "output_type": "error",
     "traceback": [
      "\u001b[1;31m---------------------------------------------------------------------------\u001b[0m",
      "\u001b[1;31mModuleNotFoundError\u001b[0m                       Traceback (most recent call last)",
      "Cell \u001b[1;32mIn[1], line 4\u001b[0m\n\u001b[0;32m      1\u001b[0m \u001b[38;5;28;01mfrom\u001b[39;00m \u001b[38;5;21;01mtyping\u001b[39;00m \u001b[38;5;28;01mimport\u001b[39;00m Tuple, List, Callable, Any\n\u001b[0;32m      3\u001b[0m \u001b[38;5;28;01mfrom\u001b[39;00m \u001b[38;5;21;01mgame\u001b[39;00m\u001b[38;5;21;01m.\u001b[39;00m\u001b[38;5;21;01mtwo_player_games\u001b[39;00m\u001b[38;5;21;01m.\u001b[39;00m\u001b[38;5;21;01mplayer\u001b[39;00m \u001b[38;5;28;01mimport\u001b[39;00m Player\n\u001b[1;32m----> 4\u001b[0m \u001b[38;5;28;01mfrom\u001b[39;00m \u001b[38;5;21;01mgame\u001b[39;00m\u001b[38;5;21;01m.\u001b[39;00m\u001b[38;5;21;01mtwo_player_games\u001b[39;00m\u001b[38;5;21;01m.\u001b[39;00m\u001b[38;5;21;01mgames\u001b[39;00m\u001b[38;5;21;01m.\u001b[39;00m\u001b[38;5;21;01mconnect_four\u001b[39;00m \u001b[38;5;28;01mimport\u001b[39;00m ConnectFour, ConnectFourMove\n",
      "File \u001b[1;32mc:\\Users\\Kacper\\Desktop\\WSI_24Z\\minmax\\game\\two_player_games\\games\\connect_four.py:2\u001b[0m\n\u001b[0;32m      1\u001b[0m \u001b[38;5;28;01mfrom\u001b[39;00m \u001b[38;5;21;01mdataclasses\u001b[39;00m \u001b[38;5;28;01mimport\u001b[39;00m fields\n\u001b[1;32m----> 2\u001b[0m \u001b[38;5;28;01mfrom\u001b[39;00m \u001b[38;5;21;01mtwo_player_games\u001b[39;00m\u001b[38;5;21;01m.\u001b[39;00m\u001b[38;5;21;01mmove\u001b[39;00m \u001b[38;5;28;01mimport\u001b[39;00m Move\n\u001b[0;32m      3\u001b[0m \u001b[38;5;28;01mfrom\u001b[39;00m \u001b[38;5;21;01mtyping\u001b[39;00m \u001b[38;5;28;01mimport\u001b[39;00m Iterable, List, Optional, Tuple\n\u001b[0;32m      4\u001b[0m \u001b[38;5;28;01mfrom\u001b[39;00m \u001b[38;5;21;01mtwo_player_games\u001b[39;00m\u001b[38;5;21;01m.\u001b[39;00m\u001b[38;5;21;01mgame\u001b[39;00m \u001b[38;5;28;01mimport\u001b[39;00m Game\n",
      "\u001b[1;31mModuleNotFoundError\u001b[0m: No module named 'two_player_games'"
     ]
    }
   ],
   "source": [
    "from typing import Tuple, List, Callable, Any\n",
    "\n",
    "from game.two_player_games.player import Player\n",
    "from game.two_player_games.games.connect_four import ConnectFour, ConnectFourMove"
   ]
  },
  {
   "cell_type": "markdown",
   "metadata": {
    "collapsed": false
   },
   "source": [
    "Wielkość planszy"
   ]
  },
  {
   "cell_type": "code",
   "execution_count": 3,
   "metadata": {
    "collapsed": false
   },
   "outputs": [],
   "source": [
    "ROW_COUNT = 6\n",
    "COLUMN_COUNT = 7"
   ]
  },
  {
   "cell_type": "code",
   "execution_count": null,
   "metadata": {},
   "outputs": [],
   "source": [
    "class Heuristic:\n",
    "    def h(game: ConnectFour):\n",
    "        game_state = game.state\n",
    "        curr_player = game_state.get_current_player()\n",
    "\n",
    "        pass"
   ]
  },
  {
   "cell_type": "code",
   "execution_count": null,
   "metadata": {
    "collapsed": false
   },
   "outputs": [],
   "source": [
    "class MinMaxSolver:\n",
    "\n",
    "    def __init__(self, game: ConnectFour, heuristic: Callable[[ConnectFour, Player], Any]):\n",
    "        self.game = game\n",
    "        self.heuristic = heuristic\n",
    "\n",
    "    def get_best_move(self)->int:\n",
    "        self.game.get_moves()\n",
    "\n",
    "    def is_valid_move(self, col_index:int)->bool:\n",
    "        pass\n",
    "\n",
    "    def minimax(self, depth, alpha:float, beta:float, is_maximizing_player:bool)-> Tuple[int, float]:\n",
    "        \"\"\"Returns column index and score\"\"\"\n",
    "\n",
    "        # FAIL-HARD PSEUDOCODE\n",
    "\n",
    "        # if depth == 0 or node is terminal\n",
    "        # then return heuristic value of the node\n",
    "\n",
    "        if depth == 0 or self.game.is_finished():\n",
    "            return self.heuristic(self.game)\n",
    "\n",
    "        # if maximizing_player move then\n",
    "\n",
    "        #     value is minus infinity\n",
    "\n",
    "        #     for each child of node do\n",
    "        #         value := max(value. minimax(child, depth -1, alpha, beta, is_maximizing=FALSE))\n",
    "\n",
    "        #         if value > beta then\n",
    "        #             break\n",
    "\n",
    "        #         alpha := max(alpha, value)\n",
    "\n",
    "        #     return value\n",
    "\n",
    "        # else if minimizing_player move then\n",
    "\n",
    "        #     value is plus infinity\n",
    "\n",
    "        #     for each child of node do\n",
    "        #         value := min(value. minimax(child, depth -1, alpha, beta, is_maximizing=TRUE))\n",
    "\n",
    "        #         if value < alpha then\n",
    "        #             break\n",
    "\n",
    "        #         beta := min(beta, value)\n",
    "\n",
    "        #     return value\n",
    "\n",
    "        if is_maximizing_player:\n",
    "\n",
    "            value = float(\"-inf\");\n",
    "\n",
    "            for move in self.game.get_moves():\n",
    "                value = min(value, self.minimax(move, depth - 1, alpha, beta, False))\n",
    "\n",
    "                if value > beta:\n",
    "                    break\n",
    "\n",
    "                alpha = max(alpha, value)\n",
    "\n",
    "            return value\n",
    "\n",
    "        else:\n",
    "\n",
    "            value = float(\"inf\");\n",
    "\n",
    "            for move in self.game.get_moves():\n",
    "                value = min(value, self.minimax(move, depth - 1, alpha, beta, True))\n",
    "\n",
    "                if value < alpha:\n",
    "                    break;\n",
    "\n",
    "                beta = min(beta, value)\n",
    "\n",
    "            return value\n",
    "        pass"
   ]
  },
  {
   "cell_type": "markdown",
   "metadata": {
    "collapsed": false
   },
   "source": [
    "Rozgrywka"
   ]
  },
  {
   "cell_type": "code",
   "execution_count": 5,
   "metadata": {
    "collapsed": false
   },
   "outputs": [
    {
     "name": "stdout",
     "output_type": "stream",
     "text": [
      "Current player: b\n",
      "[ ][ ][ ][ ][ ][ ][ ]\n",
      "[ ][ ][ ][ ][ ][ ][ ]\n",
      "[ ][ ][ ][ ][ ][ ][ ]\n",
      "[ ][ ][ ][ ][ ][ ][ ]\n",
      "[ ][ ][ ][a][ ][ ][ ]\n",
      "[ ][ ][ ][a][b][ ][ ]\n"
     ]
    }
   ],
   "source": [
    "p1 = Player(\"a\")\n",
    "p2 = Player(\"b\")\n",
    "game = ConnectFour(size=(COLUMN_COUNT, ROW_COUNT), first_player=p1, second_player=p2)\n",
    "game.make_move(ConnectFourMove(3))\n",
    "game.make_move(ConnectFourMove(4))\n",
    "game.make_move(ConnectFourMove(3))\n",
    "\n",
    "print(game)"
   ]
  }
 ],
 "metadata": {
  "kernelspec": {
   "display_name": "Python 3",
   "language": "python",
   "name": "python3"
  },
  "language_info": {
   "codemirror_mode": {
    "name": "ipython",
    "version": 3
   },
   "file_extension": ".py",
   "mimetype": "text/x-python",
   "name": "python",
   "nbconvert_exporter": "python",
   "pygments_lexer": "ipython3",
   "version": "3.12.6"
  },
  "nteract": {
   "version": "nteract-front-end@1.0.0"
  }
 },
 "nbformat": 4,
 "nbformat_minor": 0
}
