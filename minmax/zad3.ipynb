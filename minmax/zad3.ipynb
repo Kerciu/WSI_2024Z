{
 "cells": [
  {
   "cell_type": "markdown",
   "metadata": {
    "collapsed": false
   },
   "source": [
    "# Zadanie 3 (7 punktów)\n",
    "\n",
    "Celem ćwiczenia jest imlementacja metody [Minimax z obcinaniem alpha-beta](https://en.wikipedia.org/wiki/Alpha%E2%80%93beta_pruning) do gry  Czwórki (ang. Connect Four).\n",
    "\n",
    "W trakcie ćwiczenia można skorzystać z reposytorium z implementacją gry [Connect Four udostępnionym przez Jakuba Łyskawę](https://github.com/lychanl/two-player-games). Ewentualnie, można zaimplementować samemu grę Connect Four.\n",
    "\n",
    "Należy zaimplementować co najmniej dwie heurystyki do ewaluacji planszy.  \n",
    "\n",
    "Implementację algorytmu Minimax (klasa `MiniMaxSolver`) należy przetestować używając różną głębokość przeszukiwania symulując grę \"komputer vs komputer\". W eksperymentach należy również zademonstrować różnice pomiędzy heurystykami.  \n",
    "\n",
    "W ramach zadania można zaimplementować dowolną liczbę dodatkowych metod w klasie `MiniMaxSolver`.\n",
    "\n",
    "Punktacja:\n",
    "\n",
    "- Działająca metoda Minimax oraz heurystyki do ewaluacji planszy. - **2 pkt**\n",
    "- Działająca metoda Minimax z obcinaniem alpha-beta. - **1.5 pkt**\n",
    "- Analiza jakości solvera w zależności od głębokości przeszukiwania - wykresy. - **2pkt**\n",
    "    - należy zaimplementować w tym celu prostą wizualizację rozgrywki dwóch agentów\n",
    "- Jakość kodu. - **1.5pkt**"
   ]
  },
  {
   "cell_type": "markdown",
   "metadata": {
    "collapsed": false
   },
   "source": [
    "Aby importowanie elementów z poniższej komórki działało należy umieścić tego notebooka w tym samym folderze co paczkę `two_player_games`:\n",
    "```\n",
    "├── LICENSE\n",
    "├── README.md\n",
    "├── minimax.ipynb # <<< HERE\n",
    "├── test\n",
    "│   ├── __init__.py\n",
    "│   ├── test_connect_four.py\n",
    "│   ├── test_dots_and_boxes.py\n",
    "│   └── test_pick.py\n",
    "└── two_player_games\n",
    "    ├── __init__.py\n",
    "    ├── games\n",
    "    │   ├── connect_four.py\n",
    "    │   └── dots_and_boxes.py\n",
    "    ├── move.py\n",
    "    ├── player.py\n",
    "    └── state.py\n",
    "```"
   ]
  },
  {
   "cell_type": "code",
   "execution_count": 89,
   "metadata": {
    "collapsed": true
   },
   "outputs": [],
   "source": [
    "from typing import Tuple, List, Callable, Any, Optional\n",
    "\n",
    "import random\n",
    "\n",
    "from matplotlib import pyplot as plt\n",
    "\n",
    "from two_player_games.player import Player\n",
    "from two_player_games.games.connect_four import ConnectFour, ConnectFourMove, ConnectFourState"
   ]
  },
  {
   "cell_type": "markdown",
   "metadata": {
    "collapsed": false
   },
   "source": [
    "Wielkość planszy"
   ]
  },
  {
   "cell_type": "code",
   "execution_count": 90,
   "metadata": {
    "collapsed": false
   },
   "outputs": [],
   "source": [
    "ROW_COUNT = 6\n",
    "COLUMN_COUNT = 7"
   ]
  },
  {
   "cell_type": "code",
   "execution_count": 91,
   "metadata": {},
   "outputs": [],
   "source": [
    "class Heuristic:\n",
    "    @staticmethod\n",
    "    def board_evaluation(game: ConnectFour):\n",
    "        \"\"\"\n",
    "        Evaluation based on heuristic table\n",
    "\n",
    "        https://softwareengineering.stackexchange.com/questions/263514/why-does-this-evaluation-function-work-in-a-connect-four-game-in-java\n",
    "\n",
    "        \"\"\"\n",
    "\n",
    "        eval_table = [\n",
    "            [3, 4, 5, 7, 5, 4, 3],\n",
    "            [4, 6, 8, 10, 8, 6, 4],\n",
    "            [5, 8, 11, 13, 11, 8, 5],\n",
    "            [5, 8, 11, 13, 11, 8, 5],\n",
    "            [4, 6, 8, 10, 8, 6, 4],\n",
    "            [3, 4, 5, 7, 5, 4, 3]\n",
    "        ]\n",
    "\n",
    "        sum_value = 0\n",
    "\n",
    "        for col_id, column in enumerate(game.state.fields):\n",
    "            for row_id, field in enumerate(column):\n",
    "                if field is not None:\n",
    "                    if field == game.first_player:\n",
    "                        sum_value += eval_table[row_id][col_id]\n",
    "                    elif field == game.second_player:\n",
    "                        sum_value -= eval_table[row_id][col_id]\n",
    "\n",
    "        return sum_value\n",
    "\n",
    "    @staticmethod\n",
    "    def winning_lines_evaluation(game: ConnectFour):\n",
    "        \"\"\"\n",
    "        Evaluation based on the winning lines\n",
    "        \"\"\"\n",
    "\n",
    "        sum_value = 0\n",
    "\n",
    "        for row in range(ROW_COUNT):\n",
    "            for col in range(COLUMN_COUNT):\n",
    "                if game.state.fields[col][row] == game.first_player:\n",
    "                    sum_value += 1\n",
    "                if game.state.fields[col][row] == game.second_player:\n",
    "                    sum_value -= 1\n",
    "\n",
    "        return sum_value\n"
   ]
  },
  {
   "cell_type": "code",
   "execution_count": 92,
   "metadata": {
    "collapsed": false
   },
   "outputs": [],
   "source": [
    "class MinMaxSolver:\n",
    "\n",
    "    def __init__(self, game: ConnectFour, heuristic: Callable[[ConnectFour, Player], Any], max_depth: int):\n",
    "        self.game = game\n",
    "        self.heuristic = heuristic\n",
    "        self.max_depth = max_depth\n",
    "\n",
    "    def get_best_move(self)->int:\n",
    "        alpha = float(\"-inf\")\n",
    "        beta = float(\"inf\")\n",
    "        move, _ = self.minimax(0, alpha, beta, True)\n",
    "\n",
    "        return move if move else random.choice(self.game.get_moves())\n",
    "\n",
    "    def is_valid_move(self, col_index:int)->bool:\n",
    "        return col_index in self.game.get_moves()\n",
    "\n",
    "    def minimax(self, depth, alpha:float, beta:float, is_maximizing_player:bool)-> Tuple[int, float]:\n",
    "        \"\"\"Returns column index and score\"\"\"\n",
    "\n",
    "        # FAIL-HARD\n",
    "\n",
    "        if depth == self.max_depth or self.game.is_finished():\n",
    "            return None, self.heuristic(self.game)\n",
    "\n",
    "        best_move: Optional[int] = None\n",
    "\n",
    "        if is_maximizing_player:\n",
    "\n",
    "            best_score = float(\"-inf\")\n",
    "\n",
    "            for move in self.game.get_moves():\n",
    "                previous_state = self.game.state\n",
    "                self.game.state = self.game.make_move(move)\n",
    "\n",
    "                _, score = self.minimax(depth - 1, alpha, beta, False)\n",
    "\n",
    "                self.game.state = previous_state\n",
    "\n",
    "                if score > best_score:\n",
    "                    best_score = score\n",
    "                    best_move = move.column\n",
    "\n",
    "                alpha = max(alpha, best_score)\n",
    "                if beta <= alpha:\n",
    "                    break\n",
    "\n",
    "            return best_move, best_score\n",
    "\n",
    "        else:\n",
    "\n",
    "            best_score = float(\"inf\")\n",
    "\n",
    "            for move in self.game.get_moves():\n",
    "                previous_state = self.game.state\n",
    "                self.game.state = self.game.make_move(move)\n",
    "\n",
    "                _, score = self.minimax(depth - 1, alpha, beta, True)\n",
    "\n",
    "                self.game.state = previous_state\n",
    "\n",
    "                if score < best_score:\n",
    "                    best_score = score\n",
    "                    best_move = move.column\n",
    "\n",
    "                beta = min(beta, best_score)\n",
    "                if beta <= alpha:\n",
    "                    break\n",
    "\n",
    "            return best_move, best_score"
   ]
  },
  {
   "cell_type": "code",
   "execution_count": 93,
   "metadata": {},
   "outputs": [],
   "source": [
    "class GameSimulator:\n",
    "\n",
    "    def __init__(self, max_depth: int = 6, games_num: int = 10):\n",
    "        self.games_num = games_num\n",
    "        self.max_depth = max_depth\n",
    "\n",
    "    def initialize_results(self):\n",
    "\n",
    "        return {\n",
    "            depth:\n",
    "            {\n",
    "                \"player1_wins\": 0,\n",
    "                \"player2_wins\": 0,\n",
    "                \"ties\": 0\n",
    "            }\n",
    "\n",
    "            for depth in self.max_depth\n",
    "        }\n",
    "\n",
    "    def simulate_games(self, game: ConnectFour, heuristic: Callable):\n",
    "\n",
    "        results = self.initialize_results()\n",
    "\n",
    "        for depth in range(1, self.max_depth):\n",
    "            for _ in range(self.games_num):\n",
    "\n",
    "                first_solver = MinMaxSolver(game, heuristic, depth)\n",
    "                second_solver = MinMaxSolver(game, heuristic, depth)\n",
    "\n",
    "                current_solver = first_solver\n",
    "\n",
    "                while not game.state.is_finished():\n",
    "                    best_move = current_solver.get_best_move()\n",
    "                    game.make_move(best_move)\n",
    "\n",
    "                    current_solver = second_solver if current_solver == first_solver else first_solver\n",
    "\n",
    "                winner = game.get_winner()\n",
    "\n",
    "                if winner == game.first_player:\n",
    "                    results[depth][\"player1_wins\"] += 1\n",
    "                elif winner == game.second_player:\n",
    "                    results[depth][\"player2_wins\"] += 1\n",
    "                else:\n",
    "                    results[depth][\"ties\"] += 1\n",
    "\n",
    "        return results\n",
    "\n",
    "    def plot(self, results):\n",
    "        depths = list(results.keys())\n",
    "        player1_wins = [results[depth][\"player1_wins\"] for depth in depths]\n",
    "        player2_wins = [results[depth][\"player2_wins\"] for depth in depths]\n",
    "        ties = [results[depth][\"ties\"] for depth in depths]\n",
    "\n",
    "        plt.figure(figsize=(10, 6))\n",
    "        plt.plot(depths, player1_wins, label=\"Player 1 Wins\", marker='o')\n",
    "        plt.plot(depths, player2_wins, label=\"Player 2 Wins\", marker='s')\n",
    "        plt.plot(depths, ties, label=\"Ties\", marker='^')\n",
    "        plt.xlabel(\"Search Depth\")\n",
    "        plt.ylabel(\"Number of Games\")\n",
    "        plt.title(\"Game Outcomes vs Search Depth\")\n",
    "        plt.legend()\n",
    "        plt.grid(True)\n",
    "        plt.show()\n",
    "\n",
    "\n"
   ]
  },
  {
   "cell_type": "markdown",
   "metadata": {
    "collapsed": false
   },
   "source": [
    "Rozgrywka"
   ]
  },
  {
   "cell_type": "code",
   "execution_count": 94,
   "metadata": {
    "collapsed": false
   },
   "outputs": [
    {
     "name": "stdout",
     "output_type": "stream",
     "text": [
      "Current player: b\n",
      "[ ][ ][ ][ ][ ][ ][ ]\n",
      "[ ][ ][ ][ ][ ][ ][ ]\n",
      "[ ][ ][ ][a][ ][ ][ ]\n",
      "[ ][ ][ ][b][ ][ ][ ]\n",
      "[ ][ ][ ][a][ ][ ][ ]\n",
      "[ ][ ][ ][a][b][ ][ ]\n"
     ]
    }
   ],
   "source": [
    "p1 = Player(\"a\")\n",
    "p2 = Player(\"b\")\n",
    "game = ConnectFour(size=(COLUMN_COUNT, ROW_COUNT), first_player=p1, second_player=p2)\n",
    "game.make_move(ConnectFourMove(3))\n",
    "game.make_move(ConnectFourMove(4))\n",
    "game.make_move(ConnectFourMove(3))\n",
    "game.make_move(ConnectFourMove(3))\n",
    "game.make_move(ConnectFourMove(3))\n",
    "\n",
    "print(game)"
   ]
  },
  {
   "cell_type": "code",
   "execution_count": null,
   "metadata": {},
   "outputs": [
    {
     "ename": "TypeError",
     "evalue": "GameSimulator.simulate_games() missing 1 required positional argument: 'heuristic'",
     "output_type": "error",
     "traceback": [
      "\u001b[1;31m---------------------------------------------------------------------------\u001b[0m",
      "\u001b[1;31mTypeError\u001b[0m                                 Traceback (most recent call last)",
      "Cell \u001b[1;32mIn[95], line 4\u001b[0m\n\u001b[0;32m      2\u001b[0m p2 \u001b[38;5;241m=\u001b[39m Player(\u001b[38;5;124m\"\u001b[39m\u001b[38;5;124mb\u001b[39m\u001b[38;5;124m\"\u001b[39m)\n\u001b[0;32m      3\u001b[0m game \u001b[38;5;241m=\u001b[39m ConnectFour(size\u001b[38;5;241m=\u001b[39m(COLUMN_COUNT, ROW_COUNT), first_player\u001b[38;5;241m=\u001b[39mp1, second_player\u001b[38;5;241m=\u001b[39mp2)\n\u001b[1;32m----> 4\u001b[0m \u001b[43mGameSimulator\u001b[49m\u001b[38;5;241;43m.\u001b[39;49m\u001b[43msimulate_games\u001b[49m\u001b[43m(\u001b[49m\u001b[43mgame\u001b[49m\u001b[43m,\u001b[49m\u001b[43m \u001b[49m\u001b[43mHeuristic\u001b[49m\u001b[38;5;241;43m.\u001b[39;49m\u001b[43mboard_evaluation\u001b[49m\u001b[43m)\u001b[49m\n",
      "\u001b[1;31mTypeError\u001b[0m: GameSimulator.simulate_games() missing 1 required positional argument: 'heuristic'"
     ]
    }
   ],
   "source": [
    "p1 = Player(\"a\")\n",
    "p2 = Player(\"b\")\n",
    "game = ConnectFour(size=(COLUMN_COUNT, ROW_COUNT), first_player=p1, second_player=p2)\n",
    "simulator = GameSimulator()\n",
    "simulator.simulate_games(game, Heuristic.board_evaluation)"
   ]
  }
 ],
 "metadata": {
  "kernelspec": {
   "display_name": "Python 3",
   "language": "python",
   "name": "python3"
  },
  "language_info": {
   "codemirror_mode": {
    "name": "ipython",
    "version": 3
   },
   "file_extension": ".py",
   "mimetype": "text/x-python",
   "name": "python",
   "nbconvert_exporter": "python",
   "pygments_lexer": "ipython3",
   "version": "3.12.6"
  },
  "nteract": {
   "version": "nteract-front-end@1.0.0"
  }
 },
 "nbformat": 4,
 "nbformat_minor": 0
}
