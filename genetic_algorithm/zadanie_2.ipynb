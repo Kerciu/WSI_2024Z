{
 "cells": [
  {
   "cell_type": "markdown",
   "metadata": {
    "id": "cBl0cj0jPID2"
   },
   "source": [
    "#Zadanie 2 (7 pkt)\n",
    "Celem zadania jest rozwiązanie zadania optymalizacji przy pomocy algorytmu genetycznego. Należy znaleźć minimum zadanej funkcji:\n",
    "\\begin{equation}\n",
    "f(x) = 1.5-\\exp \\left\\{-x_1^2-x_2^2\\right\\}-0.5 \\exp \\left\\{-\\left(x_1-1\\right)^2-\\left(x_2+2\\right)^2\\right\\}\n",
    "\\end{equation}\n",
    "Należy wykorzystać mechanizmy krzyżowania punktowego, mutacji oraz selekcji turniejowej. Proszę wykorzystać przygotowany szkielet i zaimplementować niezbędne metody. Opracowane oprogramowanie powinno być uniwersalne - wymiar funkcji, której minimum szukamy może być dowolny (mechanizm *args). Punktacja wygląda następująco:\n",
    "\n",
    "*   Stworzenie obiektu klasy *Chromosome* z polem *array*, które jest wektorem aktywnych i nieaktywnych genów - **0.5 pkt**\n",
    "*   Implementacja metody *decode*, która dekoduje część chromosomu (określoną przez początek (*lower_bound*) i koniec (*upper_bound*)) do postaci liczby rzeczywistej. *aoi* to zakres wartości zdekodowanej liczby rzeczywistej. Przykład: liczba 135 w postaci binarnej zapisana przy użyciu 8 bitów to 1000 0111, jeśli nasze *aoi* to [0, 1], to 135 sprowadzone do tego zakresu to 0.529. Można skorzystać z funkcji pomocniczej *min_max_norm* - **1 pkt**\n",
    "*   Implementacja metody *mutation*, która przyjmuje jako argument prawdopodobieństo mutacji i zmienia wartość jedego, losowego genu na przeciwną - **0.5 pkt**\n",
    "*   Implementacja metody *crossover*, która wykonuje operację krzyżowania jednopunktowego - **1 pkt**\n",
    "*   Implementacja metody *eval_objective_func*, która dekoduje cały chromosom (otrzymuje się argumenty funkcji) oraz zwraca wartość funkcji celu dla tych argumentów - **1 pkt**\n",
    "*   Implementacja metody *tournament_selection*, która przeprowadza selekcję turniejową - **1 pkt**\n",
    "*   Implementacja metody *reproduce*, która generuje nowe pokolenie - z pewnym prawdopodobieństwem przeprowadza krzyżowanie jednopunktowe lub \"przerzuca\" rodziców do nowego pokolenia - **0.5 pkt**\n",
    "*   Implementacja metody *run*, która wykonuje cały alorytm genetyczny dla określonej liczby pokoleń. W każdym pokoleniu należy zapisać dane osobnika z najlepszym chromosomem zdekodowane wartości x i y oraz wartość funkcji strat dla tego osobnika - **0.5 pkt**\n",
    "*   Proszę, podobnie jak miało to miejsce w przypadku metody gradientowej z poprzednich zajęć, wygenerować wykres przy użyciu funkcji *plot_func* (w przypadku innego typu argumentu *trace*, funkcję można zmodyfikować. Wykres powinien przedstawiać funkcję, której minimum poszukujemy oraz punkty odpowiadające najlepszym osobnikom w danych generacjach, których kolor jest coraz jaśniejszy wraz ze zbliżaniem się do minimum. Proszę zapisać swoje wnioski, w szczególności w odniesieniu do metody gradientowej. - **1 pkt**\n"
   ]
  },
  {
   "cell_type": "code",
   "execution_count": 1,
   "metadata": {
    "id": "t7lu9KtdNqVO"
   },
   "outputs": [],
   "source": [
    "from typing import Callable, List, Dict, Tuple\n",
    "import numpy as np\n",
    "import matplotlib.pyplot as plt\n",
    "import random"
   ]
  },
  {
   "cell_type": "code",
   "execution_count": null,
   "metadata": {},
   "outputs": [],
   "source": [
    "class Function:\n",
    "\n",
    "    @staticmethod\n",
    "    def f(x1, x2):\n",
    "        return 1.5 - np.exp(-(x1 ** 2) - (x2 ** 2)) - 0.5 * np.exp(-((x1 - 1) ** 2) - ((x2 + 2) ** 2))"
   ]
  },
  {
   "cell_type": "code",
   "execution_count": 2,
   "metadata": {
    "id": "At5DP7zTNsO8"
   },
   "outputs": [],
   "source": [
    "def min_max_norm(val, min_val, max_val, new_min, new_max):\n",
    "  return (val - min_val) * (new_max - new_min) / (max_val - min_val) + new_min"
   ]
  },
  {
   "cell_type": "code",
   "execution_count": 3,
   "metadata": {
    "id": "AHfWVTRuNxms"
   },
   "outputs": [],
   "source": [
    "class Chromosome:\n",
    "  def __init__(self, length, array=None): #if array is None it should be initialized with random binary vector\n",
    "    \"\"\"\n",
    "    Initialize Chromosome with a binary gene array.\n",
    "    If no array is provided, it generates a random binary vector of given length.\n",
    "    \"\"\"\n",
    "    self.length = length\n",
    "    self.array = array if array is not None else [random.randint(0, 1) for _ in range(length)]\n",
    "\n",
    "  def decode(self, lower_bound, upper_bound, aoi):\n",
    "    \"\"\"\n",
    "    Decode binary vector to a real number within the specified range\n",
    "\n",
    "    @params\n",
    "    - lower_bound: Starting index of the binary segment.\n",
    "    - upper_bound: Ending index of the binary segment.\n",
    "    - aoi: An two element array representing the range of the decoded real number.\n",
    "\n",
    "    @returns\n",
    "    - A real value corresponding to the binary segment, normalized withing specified range.\n",
    "    \"\"\"\n",
    "\n",
    "    bin_vec = self.array[lower_bound:upper_bound + 1]\n",
    "    dec_val = sum(val * (2 ** idx) for idx, val in enumerate(reversed(bin_vec)))\n",
    "\n",
    "    min_val, max_val = 0, (2 ** len(bin_vec)) - 1\n",
    "    return min_max_norm(dec_val, min_val, max_val, *aoi)\n",
    "\n",
    "  def mutation(self, probability):\n",
    "    \"\"\"\n",
    "    Mutate the gene by flipping the bit with the given probability.\n",
    "\n",
    "    @params\n",
    "    - probability: Probability of flipping the bit of the gene.\n",
    "    \"\"\"\n",
    "\n",
    "    if random.random() < probability:\n",
    "      idx = random.randint(0, len(self.array) - 1)\n",
    "      self.array[idx] = 0 if self.array[idx] == 1 else 1\n",
    "\n",
    "  def crossover(self, other):\n",
    "    \"\"\"\n",
    "    Perform one-point crossover with another Chromosome object.\n",
    "\n",
    "    @params\n",
    "    - other: Other Chromosome object to crossover with.\n",
    "\n",
    "    @returns\n",
    "    - Two Chromosome objects resulting from the crossover.\n",
    "    \"\"\"\n",
    "\n",
    "    assert isinstance(other, Chromosome), \"You can only crossover with other Chromosome object.\"\n",
    "\n",
    "    rand_idx = random.randint(0, len(self.array) - 1)\n",
    "\n",
    "    first_child_arr = self.array[:rand_idx] + other.array[rand_idx:]\n",
    "    second_child_arr = other.array[:rand_idx:] + self.array[rand_idx:]\n",
    "\n",
    "    return Chromosome(self.length, first_child_arr), Chromosome(self.length, second_child_arr)"
   ]
  },
  {
   "cell_type": "code",
   "execution_count": 4,
   "metadata": {
    "id": "bAMGkQczOnRS"
   },
   "outputs": [],
   "source": [
    "class GeneticAlgorithm:\n",
    "  def __init__(self,\n",
    "               chromosome_length: int,\n",
    "               obj_func_num_args: int,\n",
    "               objective_function: Callable[..., float],\n",
    "               aoi: List[float],\n",
    "               population_size: int = 1000,\n",
    "               tournament_size: int = 2,\n",
    "               mutation_probability: float = 0.05,\n",
    "               crossover_probability: float = 0.8,\n",
    "               num_steps: int = 30\n",
    "               ):\n",
    "    \n",
    "    assert chromosome_length % obj_func_num_args == 0, \"Number of bits for each argument should be equal\" #sprawdzenie ze mamy 16elem chromosom\n",
    "\n",
    "    self.chromosome_lengths = chromosome_length\n",
    "    self.obj_func_num_args = obj_func_num_args\n",
    "\n",
    "    self.bits_per_arg = int(chromosome_length / obj_func_num_args)\n",
    "\n",
    "    self.objective_function = objective_function\n",
    "    self.aoi = aoi\n",
    "    self.tournament_size = tournament_size\n",
    "    self.mutation_probability = mutation_probability\n",
    "    self.crossover_probability = crossover_probability\n",
    "    self.num_steps = num_steps\n",
    "\n",
    "    # populacje robimy jako listę chromosomów (np. 500 incjancji klasy chromosom losowo)\n",
    "    self.population = [Chromosome(self.chromosome_lengths) for _ in range(self.population_size)]\n",
    "\n",
    "    # rodzicow wybieramy w ten sposob ze robimy np 500 razy selekcje turniejowa\n",
    "    # wybieramy iles np. 6 losowo osobnikow, kodujemy argumenty,\n",
    "    # wrzucamy argumenty do tej funkcji i zwracamy\n",
    "    # wybieramy z selekcji tego osobnika ktory zwrocil nam najnizsza wartosc tej funkcji\n",
    "    # z tego mamy potencjalnych rodzicow\n",
    "\n",
    "  def eval_objective_func(self, chromosome) -> Dict[Tuple[float, ...], float]:\n",
    "    assert isinstance(chromosome, Chromosome), \"You can only pass Chromosome object.\"\n",
    "    # zdekodowanie dwóch argumentów, dzielimy chromosom na pierwsze elementy i drugie elementy (np. dla 16elem 8-8)\n",
    "    # i wrzucamy do objective function\n",
    "    # funkcja powinna zwracać dictionary, która ma {argumenty zdekodowane: wartość argumentów}\n",
    "\n",
    "    decoded_args = []\n",
    "    for i in range(self.obj_func_num_args):\n",
    "      start_idx = i * self.bits_per_arg\n",
    "      end_idx = (i + 1) * self.bits_per_arg - 1\n",
    "\n",
    "      decoded_args.append(\n",
    "        chromosome.decode(start_idx, end_idx, self.aoi)\n",
    "      )\n",
    "\n",
    "    value = self.objective_function(*decoded_args)\n",
    "\n",
    "    return {tuple(decoded_args): value}\n",
    "\n",
    "  def tournament_selection(self):\n",
    "    # jak na caly wynik optymalizacji wplywa rozmiar turnieju\n",
    "    # bierzemy iles osobnikow i sprawdzamy ktory z nich najlepiej spelnia funkcje celu\n",
    "    pass\n",
    "\n",
    "  def reproduce(self, parents):\n",
    "    # mamy potencjalnych rodzicow i tworzymy nowa populacje\n",
    "    # while'em tworzymy taka populacje ktora bedzie miala taki size jak poprzednia\n",
    "\n",
    "    # bierzemy jakas pare z rodzicow i krzyzujemy ich, albo przechodza do kolejnej populacji (reproduciton probability)\n",
    "    # jesli w tym kroku ich krzyzujemy tworzymy z nich dwojke dzieci\n",
    "    # jesli nie krzyzujemy to do kolejnego pokolenia przechodza rodzice a nei dzieci\n",
    "    pass\n",
    "\n",
    "  def plot_func(self, trace):\n",
    "    X = np.arange(-2, 3, 0.05)\n",
    "    Y = np.arange(-4, 2, 0.05)\n",
    "    X, Y = np.meshgrid(X, Y)\n",
    "    Z = 1.5 - np.exp(-X ** (2) - Y ** (2)) - 0.5 * np.exp(-(X - 1) ** (2) - (Y + 2) ** (2))\n",
    "    plt.figure()\n",
    "    plt.contour(X, Y, Z, 10)\n",
    "    cmaps = [[ii / len(trace), 0, 0] for ii in range(len(trace))]\n",
    "    plt.scatter([x[0] for x in trace], [x[1] for x in trace], c=cmaps)\n",
    "    plt.show()\n",
    "\n",
    "  def run(self):\n",
    "    # nalezy wywolac metody wyzej\n",
    "    # tworzymy rodzicow z metody turniejowej\n",
    "    # tworzemy dzieci z reproduce\n",
    "    # liczymy objective function\n",
    "    # robimy tak okolo 20 razy\n",
    "\n",
    "    # zapisujemy to co daje osobnik, nalezy zaznaczyc najlepszego osobnika z danego pokolenia\n",
    "    pass"
   ]
  }
 ],
 "metadata": {
  "colab": {
   "provenance": []
  },
  "kernel_info": {
   "name": "python"
  },
  "kernelspec": {
   "display_name": "Python 3",
   "language": "python",
   "name": "python3"
  },
  "language_info": {
   "codemirror_mode": {
    "name": "ipython",
    "version": 3
   },
   "file_extension": ".py",
   "mimetype": "text/x-python",
   "name": "python",
   "nbconvert_exporter": "python",
   "pygments_lexer": "ipython3",
   "version": "3.12.4"
  },
  "nteract": {
   "version": "nteract-front-end@1.0.0"
  }
 },
 "nbformat": 4,
 "nbformat_minor": 0
}
